{
  "nbformat": 4,
  "nbformat_minor": 0,
  "metadata": {
    "colab": {
      "name": "data.ipynb",
      "provenance": [],
      "authorship_tag": "ABX9TyPpWs88CniYY+b+C7BzKCOX",
      "include_colab_link": true
    },
    "kernelspec": {
      "name": "python3",
      "display_name": "Python 3"
    },
    "language_info": {
      "name": "python"
    }
  },
  "cells": [
    {
      "cell_type": "markdown",
      "metadata": {
        "id": "view-in-github",
        "colab_type": "text"
      },
      "source": [
        "<a href=\"https://colab.research.google.com/github/Mhsm2012/Diabetes_prediction_system/blob/main/data.ipynb\" target=\"_parent\"><img src=\"https://colab.research.google.com/assets/colab-badge.svg\" alt=\"Open In Colab\"/></a>"
      ]
    },
    {
      "cell_type": "markdown",
      "metadata": {
        "id": "tZOzo36b--qb"
      },
      "source": [
        "Importing requied libraies "
      ]
    },
    {
      "cell_type": "code",
      "metadata": {
        "id": "Y-PYTlyy_BLL"
      },
      "source": [
        "import pandas as pd\n",
        "import sqlite3 as sq3 # to deal with sqlite data\n",
        "import pandas.io.sql as pds"
      ],
      "execution_count": 2,
      "outputs": []
    },
    {
      "cell_type": "code",
      "metadata": {
        "id": "-HOfhkQY_KtC"
      },
      "source": [
        "# create a path and make a connection to database \n",
        "path='/content/classic_rock.db'\n",
        "con= sq3.Connection(path)\n"
      ],
      "execution_count": 3,
      "outputs": []
    },
    {
      "cell_type": "code",
      "metadata": {
        "colab": {
          "base_uri": "https://localhost:8080/",
          "height": 204
        },
        "id": "qQCkc_dDAP02",
        "outputId": "afa11d81-4b24-4cfb-9e98-480643e7c9f3"
      },
      "source": [
        "# reading data from database file\n",
        "query = '''SELECT * FROM rock_songs'''\n",
        "observations = pd.read_sql(query,con)\n",
        "observations.head()"
      ],
      "execution_count": 7,
      "outputs": [
        {
          "output_type": "execute_result",
          "data": {
            "text/html": [
              "<div>\n",
              "<style scoped>\n",
              "    .dataframe tbody tr th:only-of-type {\n",
              "        vertical-align: middle;\n",
              "    }\n",
              "\n",
              "    .dataframe tbody tr th {\n",
              "        vertical-align: top;\n",
              "    }\n",
              "\n",
              "    .dataframe thead th {\n",
              "        text-align: right;\n",
              "    }\n",
              "</style>\n",
              "<table border=\"1\" class=\"dataframe\">\n",
              "  <thead>\n",
              "    <tr style=\"text-align: right;\">\n",
              "      <th></th>\n",
              "      <th>Song</th>\n",
              "      <th>Artist</th>\n",
              "      <th>Release_Year</th>\n",
              "      <th>PlayCount</th>\n",
              "    </tr>\n",
              "  </thead>\n",
              "  <tbody>\n",
              "    <tr>\n",
              "      <th>0</th>\n",
              "      <td>Caught Up in You</td>\n",
              "      <td>.38 Special</td>\n",
              "      <td>1982.0</td>\n",
              "      <td>82</td>\n",
              "    </tr>\n",
              "    <tr>\n",
              "      <th>1</th>\n",
              "      <td>Hold On Loosely</td>\n",
              "      <td>.38 Special</td>\n",
              "      <td>1981.0</td>\n",
              "      <td>85</td>\n",
              "    </tr>\n",
              "    <tr>\n",
              "      <th>2</th>\n",
              "      <td>Rockin' Into the Night</td>\n",
              "      <td>.38 Special</td>\n",
              "      <td>1980.0</td>\n",
              "      <td>18</td>\n",
              "    </tr>\n",
              "    <tr>\n",
              "      <th>3</th>\n",
              "      <td>Art For Arts Sake</td>\n",
              "      <td>10cc</td>\n",
              "      <td>1975.0</td>\n",
              "      <td>1</td>\n",
              "    </tr>\n",
              "    <tr>\n",
              "      <th>4</th>\n",
              "      <td>Kryptonite</td>\n",
              "      <td>3 Doors Down</td>\n",
              "      <td>2000.0</td>\n",
              "      <td>13</td>\n",
              "    </tr>\n",
              "  </tbody>\n",
              "</table>\n",
              "</div>"
            ],
            "text/plain": [
              "                     Song        Artist  Release_Year  PlayCount\n",
              "0        Caught Up in You   .38 Special        1982.0         82\n",
              "1         Hold On Loosely   .38 Special        1981.0         85\n",
              "2  Rockin' Into the Night   .38 Special        1980.0         18\n",
              "3       Art For Arts Sake          10cc        1975.0          1\n",
              "4              Kryptonite  3 Doors Down        2000.0         13"
            ]
          },
          "metadata": {},
          "execution_count": 7
        }
      ]
    },
    {
      "cell_type": "code",
      "metadata": {
        "id": "xHyqeNHRA1bX"
      },
      "source": [
        ""
      ],
      "execution_count": null,
      "outputs": []
    }
  ]
}