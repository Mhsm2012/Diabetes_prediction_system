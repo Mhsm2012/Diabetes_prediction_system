{
  "nbformat": 4,
  "nbformat_minor": 0,
  "metadata": {
    "colab": {
      "name": "Diabetes_prediction_system.ipynb",
      "provenance": [],
      "authorship_tag": "ABX9TyOMVhE06lb/rIf+rexdfs3J",
      "include_colab_link": true
    },
    "kernelspec": {
      "name": "python3",
      "display_name": "Python 3"
    },
    "language_info": {
      "name": "python"
    }
  },
  "cells": [
    {
      "cell_type": "markdown",
      "metadata": {
        "id": "view-in-github",
        "colab_type": "text"
      },
      "source": [
        "<a href=\"https://colab.research.google.com/github/Mhsm2012/Diabetes_prediction_system/blob/main/Diabetes_prediction_system.ipynb\" target=\"_parent\"><img src=\"https://colab.research.google.com/assets/colab-badge.svg\" alt=\"Open In Colab\"/></a>"
      ]
    },
    {
      "cell_type": "markdown",
      "metadata": {
        "id": "MowerEwNKZXR"
      },
      "source": [
        "Importing the dependencies "
      ]
    },
    {
      "cell_type": "code",
      "metadata": {
        "id": "XlhsRsUYKg2L"
      },
      "source": [
        "import numpy as np\n",
        "import pandas as pd\n"
      ],
      "execution_count": 2,
      "outputs": []
    },
    {
      "cell_type": "markdown",
      "metadata": {
        "id": "BJX3JPLcK_vy"
      },
      "source": [
        "importing machine learning libraries "
      ]
    },
    {
      "cell_type": "code",
      "metadata": {
        "id": "k_SqDZ6VK570"
      },
      "source": [
        "from sklearn.preprocessing import StandardScaler\n",
        "from sklearn.model_selection import train_test_split\n",
        "from sklearn import svm # support vector machine to support classification \n",
        "from sklearn.metrics import accuracy_score"
      ],
      "execution_count": null,
      "outputs": []
    }
  ]
}